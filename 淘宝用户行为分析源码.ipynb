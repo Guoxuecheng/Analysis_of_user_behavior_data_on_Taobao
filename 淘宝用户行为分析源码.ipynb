{
 "cells": [
  {
   "cell_type": "markdown",
   "id": "c11fff1b",
   "metadata": {},
   "source": [
    "作者信息说明：  \n",
    "@Time : 2022年12月9日  \n",
    "@Author : 郭学成  \n",
    "@Email : 2723162295@qq.com  \n",
    "@File : 淘宝用户行为分析源码.ipynb  \n",
    "@Software: jupyter notebook  "
   ]
  },
  {
   "cell_type": "markdown",
   "id": "b33946b1",
   "metadata": {},
   "source": [
    "# 1.淘宝用户流量分析"
   ]
  },
  {
   "cell_type": "markdown",
   "id": "2ad2bd7c",
   "metadata": {},
   "source": [
    "## 1.1\t分析用户2017.11.25-2017.12.03的总pv和总uv"
   ]
  },
  {
   "cell_type": "code",
   "execution_count": 1,
   "id": "4dbcf6ac",
   "metadata": {},
   "outputs": [],
   "source": [
    "# 导入第三方计算包\n",
    "import pandas\n",
    "import pandas as pd"
   ]
  },
  {
   "cell_type": "code",
   "execution_count": 2,
   "id": "80b54e7b",
   "metadata": {},
   "outputs": [],
   "source": [
    "# 初始化数据（读取文件、为csv文件中的数据添加列名，将时间戳换成标准时间格式 Y-M-D）\n",
    "def initialize_data(bool_strftime=True):\n",
    "    data = pandas.read_csv(r\"..\\dataset\\UserBehavior_removed_exception_data.csv\")\n",
    "    data.columns = list([\"用户ID\", \"商品ID\", \"商品类目ID\", \"用户行为\", \"时间\"])\n",
    "    if bool_strftime:\n",
    "        data['时间'] = data['时间'].map(lambda x: pd.Timestamp(x, unit=\"s\").strftime(\"%Y-%m-%d\"))\n",
    "    else:\n",
    "        data['时间'] = data['时间'].map(lambda x: pd.Timestamp(x, unit=\"s\").strftime(\"%Y-%m-%d %H:%M:%S\"))\n",
    "    return data"
   ]
  },
  {
   "cell_type": "code",
   "execution_count": 3,
   "id": "ccc96639",
   "metadata": {},
   "outputs": [],
   "source": [
    "# uv : (unique visitor)独立访客，即访问您网站的一台电脑客户端为一个访客。\n",
    "# pv : (page view)页面浏览（点击）量，即用户每1次对网站中的每个网页访问均被记录1次。\n",
    "# 获取用户将近一个月的pv和uv\n",
    "def get_pv_uv_one_month():\n",
    "    data = initialize_data()\n",
    "    print(data.groupby(['用户行为'])['用户ID'].count()) # 获取用户的四种行为数量\n",
    "    print(\"uv\\t\",data.groupby(['用户ID']).count().shape[0])  # 获取用户数量(uv)"
   ]
  },
  {
   "cell_type": "code",
   "execution_count": 4,
   "id": "eb5f1ba1",
   "metadata": {},
   "outputs": [
    {
     "name": "stdout",
     "output_type": "stream",
     "text": [
      "用户行为\n",
      "buy      2015839\n",
      "cart     5530446\n",
      "fav      2888258\n",
      "pv      89660687\n",
      "Name: 用户ID, dtype: int64\n",
      "uv\t 987991\n"
     ]
    }
   ],
   "source": [
    "# 打印结果\n",
    "get_pv_uv_one_month()"
   ]
  },
  {
   "cell_type": "markdown",
   "id": "db109520",
   "metadata": {},
   "source": [
    "**根据统计结果：pv：89660687（约9千万浏览量） uv:987991(约100万独立访客数)**"
   ]
  },
  {
   "cell_type": "markdown",
   "id": "491f5074",
   "metadata": {},
   "source": [
    "## 1.2\t分析2017.11.25-2017.12.03时间内，每天的pv和uv"
   ]
  },
  {
   "cell_type": "code",
   "execution_count": 5,
   "id": "7d6a1551",
   "metadata": {},
   "outputs": [],
   "source": [
    "# 获取将近一个月内，每天的pv和uv,返回DataFrameGroupBy对象\n",
    "def get_pv_uv_each_day(bool_strftime1=True):\n",
    "    data = initialize_data(bool_strftime=bool_strftime1)\n",
    "    each_day_pv_count = data.groupby(['时间',\"用户行为\"])[\"用户ID\"]\n",
    "    each_day_uv_count = data.groupby(['时间'])[\"用户ID\"]\n",
    "    return each_day_pv_count, each_day_uv_count"
   ]
  },
  {
   "cell_type": "code",
   "execution_count": 6,
   "id": "59862098",
   "metadata": {},
   "outputs": [],
   "source": [
    "# 打印结果,只展示了前几行数据\n",
    "pv1, uv1 = get_pv_uv_each_day(bool_strftime1=True)"
   ]
  },
  {
   "cell_type": "code",
   "execution_count": 7,
   "id": "365d4c15",
   "metadata": {},
   "outputs": [
    {
     "data": {
      "text/html": [
       "<div>\n",
       "<style scoped>\n",
       "    .dataframe tbody tr th:only-of-type {\n",
       "        vertical-align: middle;\n",
       "    }\n",
       "\n",
       "    .dataframe tbody tr th {\n",
       "        vertical-align: top;\n",
       "    }\n",
       "\n",
       "    .dataframe thead th {\n",
       "        text-align: right;\n",
       "    }\n",
       "</style>\n",
       "<table border=\"1\" class=\"dataframe\">\n",
       "  <thead>\n",
       "    <tr style=\"text-align: right;\">\n",
       "      <th>用户行为</th>\n",
       "      <th>buy</th>\n",
       "      <th>cart</th>\n",
       "      <th>fav</th>\n",
       "      <th>pv</th>\n",
       "    </tr>\n",
       "    <tr>\n",
       "      <th>时间</th>\n",
       "      <th></th>\n",
       "      <th></th>\n",
       "      <th></th>\n",
       "      <th></th>\n",
       "    </tr>\n",
       "  </thead>\n",
       "  <tbody>\n",
       "    <tr>\n",
       "      <th>2017-11-24</th>\n",
       "      <td>16863</td>\n",
       "      <td>64328</td>\n",
       "      <td>35722</td>\n",
       "      <td>1064517</td>\n",
       "    </tr>\n",
       "    <tr>\n",
       "      <th>2017-11-25</th>\n",
       "      <td>201298</td>\n",
       "      <td>569236</td>\n",
       "      <td>305814</td>\n",
       "      <td>9435257</td>\n",
       "    </tr>\n",
       "    <tr>\n",
       "      <th>2017-11-26</th>\n",
       "      <td>214314</td>\n",
       "      <td>575420</td>\n",
       "      <td>305722</td>\n",
       "      <td>9475590</td>\n",
       "    </tr>\n",
       "    <tr>\n",
       "      <th>2017-11-27</th>\n",
       "      <td>218402</td>\n",
       "      <td>539212</td>\n",
       "      <td>289413</td>\n",
       "      <td>8966430</td>\n",
       "    </tr>\n",
       "    <tr>\n",
       "      <th>2017-11-28</th>\n",
       "      <td>211757</td>\n",
       "      <td>533807</td>\n",
       "      <td>289431</td>\n",
       "      <td>8849194</td>\n",
       "    </tr>\n",
       "  </tbody>\n",
       "</table>\n",
       "</div>"
      ],
      "text/plain": [
       "用户行为           buy    cart     fav       pv\n",
       "时间                                         \n",
       "2017-11-24   16863   64328   35722  1064517\n",
       "2017-11-25  201298  569236  305814  9435257\n",
       "2017-11-26  214314  575420  305722  9475590\n",
       "2017-11-27  218402  539212  289413  8966430\n",
       "2017-11-28  211757  533807  289431  8849194"
      ]
     },
     "execution_count": 7,
     "metadata": {},
     "output_type": "execute_result"
    }
   ],
   "source": [
    "pv1.count().unstack().head()"
   ]
  },
  {
   "cell_type": "code",
   "execution_count": 8,
   "id": "6a10add9",
   "metadata": {},
   "outputs": [
    {
     "data": {
      "text/plain": [
       "时间\n",
       "2017-11-24    164703\n",
       "2017-11-25    705571\n",
       "2017-11-26    713522\n",
       "2017-11-27    709207\n",
       "2017-11-28    708339\n",
       "Name: 用户ID, dtype: int64"
      ]
     },
     "execution_count": 8,
     "metadata": {},
     "output_type": "execute_result"
    }
   ],
   "source": [
    "# 打印结果,只展示了前几行数据\n",
    "uv1.nunique().head()"
   ]
  },
  {
   "cell_type": "markdown",
   "id": "6ad633ed",
   "metadata": {},
   "source": [
    "**每天的uv，pv数据在上方展示（只展示了前几行数据），下面将每日uv，pv数据可视化**"
   ]
  },
  {
   "cell_type": "code",
   "execution_count": 9,
   "id": "497ff58b",
   "metadata": {},
   "outputs": [],
   "source": [
    "import matplotlib\n",
    "import matplotlib.pyplot as  plt\n",
    "from matplotlib import ticker\n",
    "\n",
    "\n",
    "# DataFrame类型自带了plot()绘制函数\n",
    "def plt_uv_pv_each_day(pv1, uv1):\n",
    "    #设置字体为楷体\n",
    "    matplotlib.rcParams['font.sans-serif'] = ['KaiTi']\n",
    "    # pv1, uv1 = get_pv_uv_each_day()\n",
    "    # 这里的pv1包含的四种行为，这时,\n",
    "    #  组内操作的结果不是单个值, 是一个序列, 我们可以用.unstack()将它展开\n",
    "    pv2 = pv1.count().unstack()[\"pv\"]\n",
    "    uv2 = uv1.nunique()\n",
    "    \n",
    "    fig, ax = plt.subplots(1, 1)\n",
    "    # 设置 x 轴显示密度\n",
    "    tick_spacing = 2\n",
    "    ax.xaxis.set_major_locator(ticker.MultipleLocator(tick_spacing))\n",
    "    # 设置 x 坐标轴标签的显示内容和大小\n",
    "    plt.xlabel('时间', fontsize=15)\n",
    "    plt.ylabel('次数', fontsize=15)\n",
    "    # 设置 x 坐标轴刻度的旋转方向和大小\n",
    "    # rotation: 旋转方向\n",
    "    pv2.plot(legend=True,figsize=(20,10))\n",
    "    uv2.plot(legend=True,figsize=(20,10))\n",
    "    plt.xticks(rotation=90, fontsize=12)"
   ]
  },
  {
   "cell_type": "code",
   "execution_count": 10,
   "id": "0340c432",
   "metadata": {},
   "outputs": [
    {
     "data": {
      "image/png": "[encoded data removed]",
      "text/plain": [
       "<Figure size 1440x720 with 1 Axes>"
      ]
     },
     "metadata": {
      "needs_background": "light"
     },
     "output_type": "display_data"
    }
   ],
   "source": [
    "# 每日独立访客数（uv），浏览量（pv）数据,结果如下\n",
    "plt_uv_pv_each_day(pv1, uv1)"
   ]
  },
  {
   "cell_type": "markdown",
   "id": "fcee39da",
   "metadata": {},
   "source": [
    "**小结：观察到淘宝每天的访客数基本稳定在100万左右，说明淘宝的日活跃用户基数大。**"
   ]
  },
  {
   "cell_type": "markdown",
   "id": "7790c933",
   "metadata": {},
   "source": [
    "# 2. 用户消费行为分析"
   ]
  },
  {
   "cell_type": "markdown",
   "id": "8c084dfa",
   "metadata": {},
   "source": [
    "## 2.1\t时间维度分析用户消费行为习惯"
   ]
  },
  {
   "cell_type": "markdown",
   "id": "c0fc509f",
   "metadata": {},
   "source": [
    "**(1)每天不同时刻的用户行为（buy,cart,fav,pv）--这里只随机选取三天（非活动日）分析**"
   ]
  },
  {
   "cell_type": "code",
   "execution_count": 11,
   "id": "0133b1f3",
   "metadata": {},
   "outputs": [
    {
     "data": {
      "text/html": [
       "<div>\n",
       "<style scoped>\n",
       "    .dataframe tbody tr th:only-of-type {\n",
       "        vertical-align: middle;\n",
       "    }\n",
       "\n",
       "    .dataframe tbody tr th {\n",
       "        vertical-align: top;\n",
       "    }\n",
       "\n",
       "    .dataframe thead th {\n",
       "        text-align: right;\n",
       "    }\n",
       "</style>\n",
       "<table border=\"1\" class=\"dataframe\">\n",
       "  <thead>\n",
       "    <tr style=\"text-align: right;\">\n",
       "      <th></th>\n",
       "      <th>用户ID</th>\n",
       "      <th>商品ID</th>\n",
       "      <th>商品类目ID</th>\n",
       "      <th>用户行为</th>\n",
       "      <th>时间</th>\n",
       "    </tr>\n",
       "  </thead>\n",
       "  <tbody>\n",
       "    <tr>\n",
       "      <th>100095225</th>\n",
       "      <td>999999</td>\n",
       "      <td>4797808</td>\n",
       "      <td>11120</td>\n",
       "      <td>pv</td>\n",
       "      <td>2017-12-03 09:30:03</td>\n",
       "    </tr>\n",
       "    <tr>\n",
       "      <th>100095226</th>\n",
       "      <td>999999</td>\n",
       "      <td>4613472</td>\n",
       "      <td>4602841</td>\n",
       "      <td>pv</td>\n",
       "      <td>2017-12-03 09:36:06</td>\n",
       "    </tr>\n",
       "    <tr>\n",
       "      <th>100095227</th>\n",
       "      <td>999999</td>\n",
       "      <td>3647364</td>\n",
       "      <td>2304296</td>\n",
       "      <td>pv</td>\n",
       "      <td>2017-12-03 09:36:32</td>\n",
       "    </tr>\n",
       "    <tr>\n",
       "      <th>100095228</th>\n",
       "      <td>999999</td>\n",
       "      <td>1903801</td>\n",
       "      <td>2304296</td>\n",
       "      <td>pv</td>\n",
       "      <td>2017-12-03 09:37:07</td>\n",
       "    </tr>\n",
       "    <tr>\n",
       "      <th>100095229</th>\n",
       "      <td>999999</td>\n",
       "      <td>3696094</td>\n",
       "      <td>4602841</td>\n",
       "      <td>pv</td>\n",
       "      <td>2017-12-03 09:38:11</td>\n",
       "    </tr>\n",
       "  </tbody>\n",
       "</table>\n",
       "</div>"
      ],
      "text/plain": [
       "             用户ID     商品ID   商品类目ID 用户行为                   时间\n",
       "100095225  999999  4797808    11120   pv  2017-12-03 09:30:03\n",
       "100095226  999999  4613472  4602841   pv  2017-12-03 09:36:06\n",
       "100095227  999999  3647364  2304296   pv  2017-12-03 09:36:32\n",
       "100095228  999999  1903801  2304296   pv  2017-12-03 09:37:07\n",
       "100095229  999999  3696094  4602841   pv  2017-12-03 09:38:11"
      ]
     },
     "execution_count": 11,
     "metadata": {},
     "output_type": "execute_result"
    }
   ],
   "source": [
    "data = initialize_data(bool_strftime=False)\n",
    "data.tail()"
   ]
  },
  {
   "cell_type": "code",
   "execution_count": 12,
   "id": "bc6d025e",
   "metadata": {},
   "outputs": [
    {
     "data": {
      "text/html": [
       "<div>\n",
       "<style scoped>\n",
       "    .dataframe tbody tr th:only-of-type {\n",
       "        vertical-align: middle;\n",
       "    }\n",
       "\n",
       "    .dataframe tbody tr th {\n",
       "        vertical-align: top;\n",
       "    }\n",
       "\n",
       "    .dataframe thead th {\n",
       "        text-align: right;\n",
       "    }\n",
       "</style>\n",
       "<table border=\"1\" class=\"dataframe\">\n",
       "  <thead>\n",
       "    <tr style=\"text-align: right;\">\n",
       "      <th></th>\n",
       "      <th>用户ID</th>\n",
       "      <th>商品ID</th>\n",
       "      <th>商品类目ID</th>\n",
       "      <th>用户行为</th>\n",
       "      <th>时间</th>\n",
       "    </tr>\n",
       "  </thead>\n",
       "  <tbody>\n",
       "    <tr>\n",
       "      <th>14</th>\n",
       "      <td>1</td>\n",
       "      <td>5002615</td>\n",
       "      <td>2520377</td>\n",
       "      <td>pv</td>\n",
       "      <td>2017-11-28 03:23:05</td>\n",
       "    </tr>\n",
       "    <tr>\n",
       "      <th>15</th>\n",
       "      <td>1</td>\n",
       "      <td>2734026</td>\n",
       "      <td>4145813</td>\n",
       "      <td>pv</td>\n",
       "      <td>2017-11-28 04:09:44</td>\n",
       "    </tr>\n",
       "    <tr>\n",
       "      <th>16</th>\n",
       "      <td>1</td>\n",
       "      <td>5002615</td>\n",
       "      <td>2520377</td>\n",
       "      <td>pv</td>\n",
       "      <td>2017-11-28 04:44:33</td>\n",
       "    </tr>\n",
       "    <tr>\n",
       "      <th>17</th>\n",
       "      <td>1</td>\n",
       "      <td>3239041</td>\n",
       "      <td>2355072</td>\n",
       "      <td>pv</td>\n",
       "      <td>2017-11-28 07:54:24</td>\n",
       "    </tr>\n",
       "    <tr>\n",
       "      <th>18</th>\n",
       "      <td>1</td>\n",
       "      <td>4615417</td>\n",
       "      <td>4145813</td>\n",
       "      <td>pv</td>\n",
       "      <td>2017-11-28 12:07:44</td>\n",
       "    </tr>\n",
       "  </tbody>\n",
       "</table>\n",
       "</div>"
      ],
      "text/plain": [
       "    用户ID     商品ID   商品类目ID 用户行为                   时间\n",
       "14     1  5002615  2520377   pv  2017-11-28 03:23:05\n",
       "15     1  2734026  4145813   pv  2017-11-28 04:09:44\n",
       "16     1  5002615  2520377   pv  2017-11-28 04:44:33\n",
       "17     1  3239041  2355072   pv  2017-11-28 07:54:24\n",
       "18     1  4615417  4145813   pv  2017-11-28 12:07:44"
      ]
     },
     "execution_count": 12,
     "metadata": {},
     "output_type": "execute_result"
    }
   ],
   "source": [
    "# 选取两天时间分析每天的不同时刻用户行为流量\n",
    "open_day='2017-11-28'\n",
    "close_day='2017-11-30'\n",
    "con1=data['时间']>=open_day\n",
    "con2=data['时间']<close_day\n",
    "data = data[con1&con2]\n",
    "data.head()"
   ]
  },
  {
   "cell_type": "code",
   "execution_count": 13,
   "id": "24721f76",
   "metadata": {},
   "outputs": [],
   "source": [
    "data['时间'] = pd.to_datetime(data['时间'])"
   ]
  },
  {
   "cell_type": "code",
   "execution_count": 14,
   "id": "b1e33378",
   "metadata": {},
   "outputs": [],
   "source": [
    "#用户四种行为各自的记录\n",
    "pv_data=data[data['用户行为']=='pv']\n",
    "cart_data=data[data['用户行为']=='cart']\n",
    "collect_data=data[data['用户行为']=='fav']\n",
    "buy_data=data[data['用户行为']=='buy']"
   ]
  },
  {
   "cell_type": "code",
   "execution_count": 15,
   "id": "6e0c3737",
   "metadata": {},
   "outputs": [],
   "source": [
    "#每个时刻四种行为数据量\n",
    "pv_data1 = pv_data.set_index(['时间']).resample(rule='1H')['用户行为'].count()\n",
    "cart_data1 = cart_data.set_index(['时间']).resample(rule='1H')['用户行为'].count()\n",
    "collect_data1 = collect_data.set_index(['时间']).resample(rule='1H')['用户行为'].count()\n",
    "buy_data1 = buy_data.set_index(['时间']).resample(rule='1H')['用户行为'].count()"
   ]
  },
  {
   "cell_type": "code",
   "execution_count": 16,
   "id": "4c751b5a",
   "metadata": {},
   "outputs": [
    {
     "data": {
      "text/plain": [
       "<AxesSubplot:xlabel='时间'>"
      ]
     },
     "execution_count": 16,
     "metadata": {},
     "output_type": "execute_result"
    },
    {
     "data": {
      "image/png": "[encoded data removed]",
      "text/plain": [
       "<Figure size 864x432 with 1 Axes>"
      ]
     },
     "metadata": {
      "needs_background": "light"
     },
     "output_type": "display_data"
    }
   ],
   "source": [
    "pv_data1.plot(legend=True,figsize=(12,6),color='blue')"
   ]
  },
  {
   "cell_type": "code",
   "execution_count": 17,
   "id": "f573673b",
   "metadata": {},
   "outputs": [
    {
     "data": {
      "text/plain": [
       "<AxesSubplot:xlabel='时间'>"
      ]
     },
     "execution_count": 17,
     "metadata": {},
     "output_type": "execute_result"
    },
    {
     "data": {
      "image/png": "[encoded data removed]",
      "text/plain": [
       "<Figure size 864x432 with 1 Axes>"
      ]
     },
     "metadata": {
      "needs_background": "light"
     },
     "output_type": "display_data"
    }
   ],
   "source": [
    "cart_data1.plot(legend=True,figsize=(12,6), color='black')\n",
    "collect_data1.plot(legend=True,figsize=(12,6),color='red')\n",
    "buy_data1.plot(legend=True,figsize=(12,6),color='green')\n",
    "# plt.xticks(rotation=90, fontsize=12)"
   ]
  },
  {
   "cell_type": "markdown",
   "id": "8fcdec74",
   "metadata": {},
   "source": [
    "**小结 ：选取了11月28号（周二）和28号（周三），根据上图所示，可知用户的逛淘宝时间与人的作息时间基本一致。13：00-14：00之间浏览量达到最高值，随后开始下降，到19：00-20：00之间下降到最低值，大部分人在21：00之后又开始刷手机逛淘宝，人数一直增加，到02：00左右人数开始稳定，总结来说，该数据符合人的作息时间，尤其是上班族/学生。**"
   ]
  },
  {
   "cell_type": "markdown",
   "id": "865e79da",
   "metadata": {},
   "source": [
    "## 2.2\t用户行为转化分析"
   ]
  },
  {
   "cell_type": "markdown",
   "id": "6427292e",
   "metadata": {},
   "source": [
    "“用户行为转化”定义：用户浏览商品详情页面，可以直接购买，也可以加购物车、收藏购买，用户收藏和加入购物车并没有必然的联系，不存在上下级，所以这里不画单一转化漏斗，而画出pv到成其他三种行为转化率的漏斗图。"
   ]
  },
  {
   "cell_type": "code",
   "execution_count": 18,
   "id": "bb562526",
   "metadata": {},
   "outputs": [
    {
     "data": {
      "text/html": [
       "<div>\n",
       "<style scoped>\n",
       "    .dataframe tbody tr th:only-of-type {\n",
       "        vertical-align: middle;\n",
       "    }\n",
       "\n",
       "    .dataframe tbody tr th {\n",
       "        vertical-align: top;\n",
       "    }\n",
       "\n",
       "    .dataframe thead th {\n",
       "        text-align: right;\n",
       "    }\n",
       "</style>\n",
       "<table border=\"1\" class=\"dataframe\">\n",
       "  <thead>\n",
       "    <tr style=\"text-align: right;\">\n",
       "      <th></th>\n",
       "      <th>用户行为</th>\n",
       "      <th>pv</th>\n",
       "      <th>单一环节转化率</th>\n",
       "      <th>总体转化率</th>\n",
       "    </tr>\n",
       "  </thead>\n",
       "  <tbody>\n",
       "    <tr>\n",
       "      <th>0</th>\n",
       "      <td>pv</td>\n",
       "      <td>18090843</td>\n",
       "      <td>1.0000</td>\n",
       "      <td>1.0000</td>\n",
       "    </tr>\n",
       "    <tr>\n",
       "      <th>1</th>\n",
       "      <td>cart</td>\n",
       "      <td>1088554</td>\n",
       "      <td>0.0602</td>\n",
       "      <td>0.0602</td>\n",
       "    </tr>\n",
       "    <tr>\n",
       "      <th>2</th>\n",
       "      <td>fav</td>\n",
       "      <td>589019</td>\n",
       "      <td>0.5411</td>\n",
       "      <td>0.0326</td>\n",
       "    </tr>\n",
       "    <tr>\n",
       "      <th>3</th>\n",
       "      <td>buy</td>\n",
       "      <td>434839</td>\n",
       "      <td>0.7382</td>\n",
       "      <td>0.0240</td>\n",
       "    </tr>\n",
       "  </tbody>\n",
       "</table>\n",
       "</div>"
      ],
      "text/plain": [
       "   用户行为        pv  单一环节转化率   总体转化率\n",
       "0    pv  18090843   1.0000  1.0000\n",
       "1  cart   1088554   0.0602  0.0602\n",
       "2   fav    589019   0.5411  0.0326\n",
       "3   buy    434839   0.7382  0.0240"
      ]
     },
     "execution_count": 18,
     "metadata": {},
     "output_type": "execute_result"
    }
   ],
   "source": [
    "import numpy as np\n",
    "#用户发生四种行为每个行为的总数\n",
    "behavior_funnel=data['用户行为'].value_counts().reset_index()\n",
    "behavior_funnel.columns=['用户行为','pv']\n",
    "# 求出单一环节转化率：\n",
    "temp1 = np.array(behavior_funnel['pv'][1:])\n",
    "temp2 = np.array(behavior_funnel['pv'][0:-1])\n",
    "single_convs = list(temp1 / temp2)\n",
    "single_convs.insert(0,1)\n",
    "single_convs = [round(x,4) for x in single_convs] \n",
    "behavior_funnel['单一环节转化率'] = single_convs\n",
    "#求出总体转化率\n",
    "temp3 = np.array(behavior_funnel['pv'])\n",
    "temp4= np.ones(len(behavior_funnel['pv'])) * behavior_funnel['pv'][0]\n",
    "total_convs = (temp3 / temp4).tolist()\n",
    "total_convs = [round(x,4) for x in total_convs]\n",
    "behavior_funnel['总体转化率'] = total_convs\n",
    "behavior_funnel"
   ]
  },
  {
   "cell_type": "code",
   "execution_count": 19,
   "id": "ae97af3b",
   "metadata": {},
   "outputs": [
    {
     "data": {
      "text/html": [
       "\n",
       "<script>\n",
       "    require.config({\n",
       "        paths: {\n",
       "            'echarts':'https://assets.pyecharts.org/assets/echarts.min'\n",
       "        }\n",
       "    });\n",
       "</script>\n",
       "\n",
       "        <div id=\"2797b0573bd243c087d6e64f4771e34b\" style=\"width:800px; height:600px;\"></div>\n",
       "\n",
       "<script>\n",
       "        require(['echarts'], function(echarts) {\n",
       "                var chart_2797b0573bd243c087d6e64f4771e34b = echarts.init(\n",
       "                    document.getElementById('2797b0573bd243c087d6e64f4771e34b'), 'white', {renderer: 'canvas'});\n",
       "                var option_2797b0573bd243c087d6e64f4771e34b = {\n",
       "    \"animation\": true,\n",
       "    \"animationThreshold\": 2000,\n",
       "    \"animationDuration\": 1000,\n",
       "    \"animationEasing\": \"cubicOut\",\n",
       "    \"animationDelay\": 0,\n",
       "    \"animationDurationUpdate\": 300,\n",
       "    \"animationEasingUpdate\": \"cubicOut\",\n",
       "    \"animationDelayUpdate\": 0,\n",
       "    \"color\": [\n",
       "        \"#c23531\",\n",
       "        \"#2f4554\",\n",
       "        \"#61a0a8\",\n",
       "        \"#d48265\",\n",
       "        \"#749f83\",\n",
       "        \"#ca8622\",\n",
       "        \"#bda29a\",\n",
       "        \"#6e7074\",\n",
       "        \"#546570\",\n",
       "        \"#c4ccd3\",\n",
       "        \"#f05b72\",\n",
       "        \"#ef5b9c\",\n",
       "        \"#f47920\",\n",
       "        \"#905a3d\",\n",
       "        \"#fab27b\",\n",
       "        \"#2a5caa\",\n",
       "        \"#444693\",\n",
       "        \"#726930\",\n",
       "        \"#b2d235\",\n",
       "        \"#6d8346\",\n",
       "        \"#ac6767\",\n",
       "        \"#1d953f\",\n",
       "        \"#6950a1\",\n",
       "        \"#918597\"\n",
       "    ],\n",
       "    \"series\": [\n",
       "        {\n",
       "            \"type\": \"funnel\",\n",
       "            \"data\": [\n",
       "                {\n",
       "                    \"name\": \"pv\",\n",
       "                    \"value\": 100.0\n",
       "                },\n",
       "                {\n",
       "                    \"name\": \"cart\",\n",
       "                    \"value\": 6.02\n",
       "                },\n",
       "                {\n",
       "                    \"name\": \"fav\",\n",
       "                    \"value\": 3.26\n",
       "                },\n",
       "                {\n",
       "                    \"name\": \"buy\",\n",
       "                    \"value\": 2.4\n",
       "                }\n",
       "            ],\n",
       "            \"sort\": \"descending\",\n",
       "            \"gap\": 2,\n",
       "            \"label\": {\n",
       "                \"show\": true,\n",
       "                \"position\": \"inside\",\n",
       "                \"margin\": 8,\n",
       "                \"formatter\": \"{c}%\"\n",
       "            },\n",
       "            \"itemStyle\": {\n",
       "                \"borderColor\": \"#fff\",\n",
       "                \"borderWidth\": 1\n",
       "            }\n",
       "        }\n",
       "    ],\n",
       "    \"legend\": [\n",
       "        {\n",
       "            \"data\": [\n",
       "                \"buy\",\n",
       "                \"fav\",\n",
       "                \"pv\",\n",
       "                \"cart\"\n",
       "            ],\n",
       "            \"selected\": {\n",
       "                \"pv\": true,\n",
       "                \"cart\": true,\n",
       "                \"fav\": true,\n",
       "                \"buy\": true\n",
       "            },\n",
       "            \"show\": true,\n",
       "            \"padding\": 5,\n",
       "            \"itemGap\": 10,\n",
       "            \"itemWidth\": 25,\n",
       "            \"itemHeight\": 14\n",
       "        }\n",
       "    ],\n",
       "    \"tooltip\": {\n",
       "        \"show\": true,\n",
       "        \"trigger\": \"item\",\n",
       "        \"triggerOn\": \"mousemove|click\",\n",
       "        \"axisPointer\": {\n",
       "            \"type\": \"line\"\n",
       "        },\n",
       "        \"showContent\": true,\n",
       "        \"alwaysShowContent\": false,\n",
       "        \"showDelay\": 0,\n",
       "        \"hideDelay\": 100,\n",
       "        \"textStyle\": {\n",
       "            \"fontSize\": 14\n",
       "        },\n",
       "        \"borderWidth\": 0,\n",
       "        \"padding\": 5\n",
       "    },\n",
       "    \"title\": [\n",
       "        {\n",
       "            \"text\": \"\\u7528\\u6237\\u884c\\u4e3a\\u603b\\u4f53\\u8f6c\\u5316\\u6f0f\\u6597\\u56fe\",\n",
       "            \"padding\": 5,\n",
       "            \"itemGap\": 10\n",
       "        }\n",
       "    ]\n",
       "};\n",
       "                chart_2797b0573bd243c087d6e64f4771e34b.setOption(option_2797b0573bd243c087d6e64f4771e34b);\n",
       "        });\n",
       "    </script>\n"
      ],
      "text/plain": [
       "<pyecharts.render.display.HTML at 0x1bc038d7700>"
      ]
     },
     "execution_count": 19,
     "metadata": {},
     "output_type": "execute_result"
    }
   ],
   "source": [
    "#画用户行为总体转化漏斗图\n",
    "import pyecharts.options as opts\n",
    "from pyecharts.charts import Funnel\n",
    "attrs = behavior_funnel['用户行为'].tolist()\n",
    "values = (np.array(behavior_funnel['总体转化率'])* 100).tolist()  #586120\n",
    "d = [[attrs[i], values[i]] for i in range(len(attrs))]\n",
    "funnel=(\n",
    "    Funnel(init_opts=opts.InitOpts(width=\"800px\", height=\"600px\"))\n",
    "    .add(\n",
    "        series_name=\"\",\n",
    "        data_pair=d,\n",
    "        gap=2,\n",
    "        label_opts=opts.LabelOpts(is_show=True, position=\"inside\",formatter=\"{c}%\"),\n",
    "        itemstyle_opts=opts.ItemStyleOpts(border_color=\"#fff\", border_width=1),\n",
    "    )\n",
    "    .set_global_opts(title_opts=opts.TitleOpts(title=\"用户行为总体转化漏斗图\"))\n",
    ")\n",
    "funnel.render_notebook()\n"
   ]
  },
  {
   "cell_type": "markdown",
   "id": "4ecc8b8b",
   "metadata": {},
   "source": [
    "一、转化率低的可能原因分析：\n",
    "\n",
    "（1）可能是用户不能够搜索到自己想要的东西导致的，因为有时候当用户输入关键词后，返回的页面是和关键词相关的一些商品，并非用户想要的。当然这是对于某些特定的商品而言，在淘宝上搜索宝贝，会搜索出一大堆无关东西。  \n",
    "\n",
    "（2）可能是商品页面的描述信息或者首页展示图片比较拉跨，用户看了就划走了。  \n",
    "\n",
    "（3）可能是用户自身需求临时改变的原因，因为人的消费具有即时性和冲动性，可能昨天晚上逛淘宝想买一大堆吃的，然后浏览了一大堆商品后添加了部分商品到购物车，第二天发现好像又没那么想要了，消费的冲动时间已经过去了。  \n",
    "\n",
    "（4）也可能是物流原因，有些商品需要很快到手就用的，这种受物流影响比较大，比如在淘宝买书，每天就要用，这时候用户可能会跳转到京东上购买。  \n",
    "\n",
    "二、优化环节建议  \n",
    "\n",
    "（1）首先是商铺的页面要设计的吸引人，同时要和卖的商品主题相关，最好不要挂羊头卖狗肉，很容易引起消费者的吐槽和不满。  \n",
    "\n",
    "（2）其次是物流方面，越快越好，同时不能使商品有损坏。   \n",
    "\n",
    "（3）把握好消费者逛淘宝的时间，同时当消费者对商品感兴趣（就算收藏或者已经添加到购物车了），如果消费者还在犹豫下单，可能是价格方面对于消费者不是特别友好，还在纠结中，这个时候需要商铺适当发一些优惠券或者红包折扣之类的，能够快速转化成交单。\n",
    "\n",
    "**小结：由图可知，用户的浏览量到加入购物车，点击收藏，以及下单的转换率都很低，点击量转化为购买的行为转换率才2.48%，需要在多个环节进行优化**\n"
   ]
  },
  {
   "cell_type": "markdown",
   "id": "d1a594aa",
   "metadata": {},
   "source": [
    "## 2.3 月复购率"
   ]
  },
  {
   "cell_type": "markdown",
   "id": "9c5308fb",
   "metadata": {},
   "source": [
    "月复购率：一个月内购买次数超过k次的用户数与所有购买过的用户数(k值可调整，这里k=2)"
   ]
  },
  {
   "cell_type": "code",
   "execution_count": 20,
   "id": "ea4e54c4",
   "metadata": {},
   "outputs": [
    {
     "data": {
      "text/plain": [
       "商品ID      849841\n",
       "商品类目ID    849841\n",
       "用户行为      849841\n",
       "时间        849841\n",
       "dtype: int64"
      ]
     },
     "execution_count": 20,
     "metadata": {},
     "output_type": "execute_result"
    }
   ],
   "source": [
    "pv_data.groupby('用户ID').count().count()      #访问记录用户数"
   ]
  },
  {
   "cell_type": "code",
   "execution_count": 21,
   "id": "f0f32269",
   "metadata": {
    "scrolled": true
   },
   "outputs": [
    {
     "data": {
      "text/plain": [
       "商品ID      252375\n",
       "商品类目ID    252375\n",
       "用户行为      252375\n",
       "时间        252375\n",
       "dtype: int64"
      ]
     },
     "execution_count": 21,
     "metadata": {},
     "output_type": "execute_result"
    }
   ],
   "source": [
    "user_buy=data[data['用户行为']=='buy'].groupby('用户ID').count()\n",
    "user_buy.count()            #有购买记录用户数"
   ]
  },
  {
   "cell_type": "code",
   "execution_count": 27,
   "id": "f8e19908",
   "metadata": {},
   "outputs": [
    {
     "data": {
      "text/plain": [
       "商品ID      94250\n",
       "商品类目ID    94250\n",
       "用户行为      94250\n",
       "时间        94250\n",
       "dtype: int64"
      ]
     },
     "execution_count": 27,
     "metadata": {},
     "output_type": "execute_result"
    }
   ],
   "source": [
    "user_buy[user_buy['用户行为'] >=2].count()   #购买次数超过2次的用户数"
   ]
  },
  {
   "cell_type": "code",
   "execution_count": 28,
   "id": "0191997d",
   "metadata": {},
   "outputs": [
    {
     "data": {
      "text/plain": [
       "0.37345220406141655"
      ]
     },
     "execution_count": 28,
     "metadata": {},
     "output_type": "execute_result"
    }
   ],
   "source": [
    "#月复购率\n",
    "94250/252375"
   ]
  },
  {
   "cell_type": "markdown",
   "id": "d58e2552",
   "metadata": {},
   "source": [
    "**小结：淘宝用户将近一个月的复购率为：37.35% ，可以看出用户粘性很高，用户非常喜欢用淘宝**"
   ]
  },
  {
   "cell_type": "markdown",
   "id": "dc044102",
   "metadata": {},
   "source": [
    "## 2.4 用户购买和不购买的路径分析"
   ]
  },
  {
   "cell_type": "markdown",
   "id": "93dff1c0",
   "metadata": {},
   "source": [
    "### (1) 购买的路径方式"
   ]
  },
  {
   "cell_type": "code",
   "execution_count": 29,
   "id": "54fcbc31",
   "metadata": {},
   "outputs": [
    {
     "data": {
      "text/plain": [
       "商品ID      215227\n",
       "用户行为_x    215227\n",
       "用户行为_y    215227\n",
       "dtype: int64"
      ]
     },
     "execution_count": 29,
     "metadata": {},
     "output_type": "execute_result"
    }
   ],
   "source": [
    "#四种行为按商品分组\n",
    "item_pv = pv_data.groupby('商品ID')['用户行为'].count().reset_index()\n",
    "item_cart=cart_data.groupby('商品ID')['用户行为'].count().reset_index()\n",
    "item_collect=collect_data.groupby('商品ID')['用户行为'].count().reset_index()\n",
    "item_buy=buy_data.groupby('商品ID')['用户行为'].count().reset_index()\n",
    "# 点击—购买\n",
    "pd.merge(item_pv,item_buy,on='商品ID',how='inner').count()              #89786"
   ]
  },
  {
   "cell_type": "code",
   "execution_count": 30,
   "id": "292abfb2",
   "metadata": {},
   "outputs": [
    {
     "data": {
      "text/plain": [
       "商品ID      125583\n",
       "用户行为_x    125583\n",
       "用户行为_y    125583\n",
       "用户行为      125583\n",
       "dtype: int64"
      ]
     },
     "execution_count": 30,
     "metadata": {},
     "output_type": "execute_result"
    }
   ],
   "source": [
    "#点击—加购物车-购买\n",
    "pv_cart=pd.merge(item_pv,item_cart,on='商品ID',how='inner')            \n",
    "pd.merge(pv_cart,item_buy,on='商品ID',how='inner').count()              #61102"
   ]
  },
  {
   "cell_type": "code",
   "execution_count": 31,
   "id": "90af1262",
   "metadata": {},
   "outputs": [
    {
     "data": {
      "text/plain": [
       "商品ID      89484\n",
       "用户行为_x    89484\n",
       "用户行为_y    89484\n",
       "用户行为      89484\n",
       "dtype: int64"
      ]
     },
     "execution_count": 31,
     "metadata": {},
     "output_type": "execute_result"
    }
   ],
   "source": [
    "#点击—收藏—购买\n",
    "pv_collect=pd.merge(item_pv,item_collect,on='商品ID',how='inner')\n",
    "pd.merge(pv_collect,item_buy,on='商品ID',how='inner').count()           #19869"
   ]
  },
  {
   "cell_type": "code",
   "execution_count": 32,
   "id": "9d914f7b",
   "metadata": {},
   "outputs": [
    {
     "data": {
      "text/plain": [
       "商品ID      71765\n",
       "用户行为_x    71765\n",
       "用户行为_y    71765\n",
       "用户行为_x    71765\n",
       "用户行为_y    71765\n",
       "dtype: int64"
      ]
     },
     "execution_count": 32,
     "metadata": {},
     "output_type": "execute_result"
    }
   ],
   "source": [
    "#点击—加购物车—收藏—购买\n",
    "pv_cart_collect=pd.merge(pv_cart,item_collect,on='商品ID',how='inner')  \n",
    "pd.merge(pv_cart_collect,item_buy,on='商品ID',how='inner').count()      #13892"
   ]
  },
  {
   "cell_type": "markdown",
   "id": "89c76f1b",
   "metadata": {},
   "source": [
    "### (2) 不购买的路径方式"
   ]
  },
  {
   "cell_type": "code",
   "execution_count": 44,
   "id": "a05e5823",
   "metadata": {},
   "outputs": [
    {
     "data": {
      "text/plain": [
       "商品ID\n",
       "1    1\n",
       "3    1\n",
       "5    1\n",
       "7    2\n",
       "8    1\n",
       "Name: 用户行为, dtype: int64"
      ]
     },
     "execution_count": 44,
     "metadata": {},
     "output_type": "execute_result"
    }
   ],
   "source": [
    "#不购买行为按商品分组\n",
    "# item_nobuy=data[data['用户行为'].isin(['pv','fav','cart'])].groupby('商品ID')['用户行为'].count().reset_index\n",
    "item_nobuy=data[data['用户行为'].isin(['pv','fav','cart'])].groupby('商品ID')['用户行为'].count()\n",
    "item_nobuy.head()"
   ]
  },
  {
   "cell_type": "code",
   "execution_count": 45,
   "id": "7626d97d",
   "metadata": {},
   "outputs": [
    {
     "data": {
      "text/html": [
       "<div>\n",
       "<style scoped>\n",
       "    .dataframe tbody tr th:only-of-type {\n",
       "        vertical-align: middle;\n",
       "    }\n",
       "\n",
       "    .dataframe tbody tr th {\n",
       "        vertical-align: top;\n",
       "    }\n",
       "\n",
       "    .dataframe thead th {\n",
       "        text-align: right;\n",
       "    }\n",
       "</style>\n",
       "<table border=\"1\" class=\"dataframe\">\n",
       "  <thead>\n",
       "    <tr style=\"text-align: right;\">\n",
       "      <th></th>\n",
       "      <th>商品ID</th>\n",
       "      <th>用户行为_x</th>\n",
       "      <th>用户行为_y</th>\n",
       "    </tr>\n",
       "  </thead>\n",
       "  <tbody>\n",
       "    <tr>\n",
       "      <th>0</th>\n",
       "      <td>1</td>\n",
       "      <td>1</td>\n",
       "      <td>1</td>\n",
       "    </tr>\n",
       "    <tr>\n",
       "      <th>1</th>\n",
       "      <td>3</td>\n",
       "      <td>1</td>\n",
       "      <td>1</td>\n",
       "    </tr>\n",
       "    <tr>\n",
       "      <th>2</th>\n",
       "      <td>5</td>\n",
       "      <td>1</td>\n",
       "      <td>1</td>\n",
       "    </tr>\n",
       "    <tr>\n",
       "      <th>3</th>\n",
       "      <td>7</td>\n",
       "      <td>2</td>\n",
       "      <td>2</td>\n",
       "    </tr>\n",
       "    <tr>\n",
       "      <th>4</th>\n",
       "      <td>8</td>\n",
       "      <td>1</td>\n",
       "      <td>1</td>\n",
       "    </tr>\n",
       "  </tbody>\n",
       "</table>\n",
       "</div>"
      ],
      "text/plain": [
       "   商品ID  用户行为_x  用户行为_y\n",
       "0     1       1       1\n",
       "1     3       1       1\n",
       "2     5       1       1\n",
       "3     7       2       2\n",
       "4     8       1       1"
      ]
     },
     "execution_count": 45,
     "metadata": {},
     "output_type": "execute_result"
    }
   ],
   "source": [
    "# 点击—不购买\n",
    "# pd.DataFrame(pd.merge(item_pv,item_nobuy,on='商品ID',how='inner'))#2870604\n",
    "pd.merge(item_pv,item_nobuy,on='商品ID',how='inner').head()"
   ]
  },
  {
   "cell_type": "code",
   "execution_count": 35,
   "id": "de31fae9",
   "metadata": {},
   "outputs": [
    {
     "data": {
      "text/plain": [
       "商品ID      433414\n",
       "用户行为_x    433414\n",
       "用户行为_y    433414\n",
       "用户行为      433414\n",
       "dtype: int64"
      ]
     },
     "execution_count": 35,
     "metadata": {},
     "output_type": "execute_result"
    }
   ],
   "source": [
    "#点击—加购物车-不购买\n",
    "pv_cart=pd.merge(item_pv,item_cart,on='商品ID',how='inner')\n",
    "pd.merge(pv_cart,item_nobuy,on='商品ID',how='inner').count()            #247177"
   ]
  },
  {
   "cell_type": "code",
   "execution_count": 36,
   "id": "58be0064",
   "metadata": {},
   "outputs": [
    {
     "data": {
      "text/plain": [
       "商品ID      294883\n",
       "用户行为_x    294883\n",
       "用户行为_y    294883\n",
       "用户行为      294883\n",
       "dtype: int64"
      ]
     },
     "execution_count": 36,
     "metadata": {},
     "output_type": "execute_result"
    }
   ],
   "source": [
    "#点击—收藏—不购买\n",
    "pv_collect=pd.merge(item_pv,item_collect,on='商品ID',how='inner')\n",
    "pd.merge(pv_collect,item_nobuy,on='商品ID',how='inner').count()         #204117"
   ]
  },
  {
   "cell_type": "code",
   "execution_count": 37,
   "id": "94409628",
   "metadata": {},
   "outputs": [
    {
     "data": {
      "text/plain": [
       "商品ID      161372\n",
       "用户行为_x    161372\n",
       "用户行为_y    161372\n",
       "用户行为_x    161372\n",
       "用户行为_y    161372\n",
       "dtype: int64"
      ]
     },
     "execution_count": 37,
     "metadata": {},
     "output_type": "execute_result"
    }
   ],
   "source": [
    "#点击—加购物车—收藏—不购买\n",
    "pv_cart_collect=pd.merge(pv_cart,item_collect,on='商品ID',how='inner')\n",
    "pd.merge(pv_cart_collect,item_nobuy,on='商品ID',how='inner').count()    #38710"
   ]
  },
  {
   "cell_type": "markdown",
   "id": "4dc2d372",
   "metadata": {},
   "source": [
    "# 3.商品销售情况分析"
   ]
  },
  {
   "cell_type": "markdown",
   "id": "65fca39c",
   "metadata": {},
   "source": [
    "## 3.1 浏览量（pv）前十的商品"
   ]
  },
  {
   "cell_type": "code",
   "execution_count": 52,
   "id": "8bc99b5f",
   "metadata": {},
   "outputs": [
    {
     "data": {
      "text/plain": [
       "867189"
      ]
     },
     "execution_count": 52,
     "metadata": {},
     "output_type": "execute_result"
    }
   ],
   "source": [
    "data.groupby('用户ID').count().shape[0]        #商品总数"
   ]
  },
  {
   "cell_type": "code",
   "execution_count": 55,
   "id": "912e5c6d",
   "metadata": {},
   "outputs": [],
   "source": [
    "item_frequency=buy_data.groupby(['用户ID'],as_index=False).count()"
   ]
  },
  {
   "cell_type": "code",
   "execution_count": 57,
   "id": "5f5a3717",
   "metadata": {},
   "outputs": [
    {
     "data": {
      "text/plain": [
       "用户ID      252375\n",
       "商品ID      252375\n",
       "商品类目ID    252375\n",
       "用户行为      252375\n",
       "时间        252375\n",
       "dtype: int64"
      ]
     },
     "execution_count": 57,
     "metadata": {},
     "output_type": "execute_result"
    }
   ],
   "source": [
    "item_frequency[item_frequency['用户行为'] >=1 ].count()   #销售1次及以上的商品数\n",
    "item_frequency.count()    #销售的商品数"
   ]
  },
  {
   "cell_type": "code",
   "execution_count": 58,
   "id": "bfdd9e0f",
   "metadata": {},
   "outputs": [
    {
     "data": {
      "text/plain": [
       "0.291026523629797"
      ]
     },
     "execution_count": 58,
     "metadata": {},
     "output_type": "execute_result"
    }
   ],
   "source": [
    "252375/867189"
   ]
  },
  {
   "cell_type": "markdown",
   "id": "0263862a",
   "metadata": {},
   "source": [
    "**小结：总共的商品数量是867189个(约86万)，销售1次及以上的商品是252375个（约25万），占比29.1%， 可以考虑将销量高的产品捆绑销量低的产品（再给一些优惠），能够提升销量降低库存，提高商品被买的概率**"
   ]
  },
  {
   "cell_type": "markdown",
   "id": "9430e63e",
   "metadata": {},
   "source": [
    "## 3.2 购买量（buy）前十的商品"
   ]
  },
  {
   "cell_type": "code",
   "execution_count": 41,
   "id": "0e72ebef",
   "metadata": {},
   "outputs": [
    {
     "data": {
      "text/plain": [
       "商品ID\n",
       "812879     6164\n",
       "3845720    5383\n",
       "987143     4848\n",
       "2032668    4079\n",
       "59883      4033\n",
       "138964     3742\n",
       "4211339    3701\n",
       "2331370    3517\n",
       "3031354    3258\n",
       "2818406    3193\n",
       "Name: 用户行为, dtype: int64"
      ]
     },
     "execution_count": 41,
     "metadata": {},
     "output_type": "execute_result"
    }
   ],
   "source": [
    "#pv前10的商品\n",
    "pv_item=pv_data.groupby('商品ID').count().sort_values(by=\"用户ID\" , ascending=False)[:10]\n",
    "pv_item['用户行为']"
   ]
  },
  {
   "cell_type": "code",
   "execution_count": 42,
   "id": "523f0752",
   "metadata": {},
   "outputs": [
    {
     "data": {
      "text/plain": [
       "商品ID\n",
       "3122135    788\n",
       "4499425    341\n",
       "3879906    220\n",
       "4260261    217\n",
       "3412803    174\n",
       "3237415    169\n",
       "3031354    169\n",
       "3964583    156\n",
       "2621260    143\n",
       "4554918    143\n",
       "Name: 用户行为, dtype: int64"
      ]
     },
     "execution_count": 42,
     "metadata": {},
     "output_type": "execute_result"
    }
   ],
   "source": [
    "#购买量前10的商品\n",
    "buy_item=buy_data.groupby('商品ID').count().sort_values(by=\"用户ID\" , ascending=False)[:10]\n",
    "buy_item['用户行为']"
   ]
  },
  {
   "cell_type": "code",
   "execution_count": 43,
   "id": "745b18f1",
   "metadata": {},
   "outputs": [
    {
     "data": {
      "text/plain": [
       "[3031354]"
      ]
     },
     "execution_count": 43,
     "metadata": {},
     "output_type": "execute_result"
    }
   ],
   "source": [
    "#pv前10和购买量前10中都有的商品\n",
    "pv_item_list=list(pv_item.index)\n",
    "buy_item_list=list(buy_item.index)\n",
    "same_item= list(set(buy_item_list) & set(pv_item_list))\n",
    "same_item                      #pv前10和购买]\\\\量前10中都有的商品只有一个：[3031354]"
   ]
  },
  {
   "cell_type": "markdown",
   "id": "f44232cf",
   "metadata": {},
   "source": [
    "# 4. 总结"
   ]
  },
  {
   "cell_type": "markdown",
   "id": "5c431837",
   "metadata": {},
   "source": [
    "(1)用户逛淘宝习惯与人的作息工作时间基本一致，在用户空闲时间."
   ]
  },
  {
   "cell_type": "markdown",
   "id": "a3037611",
   "metadata": {},
   "source": [
    "建议：在用户收藏/加入购物车的一段时间内，考虑适当发一些优惠券"
   ]
  },
  {
   "cell_type": "markdown",
   "id": "4e5bd44e",
   "metadata": {},
   "source": [
    "(2)用户购买、不购买的路径大多数都是浏览商品直接购买或者流失。"
   ]
  },
  {
   "cell_type": "markdown",
   "id": "401e6858",
   "metadata": {},
   "source": [
    "建议：优化页面，设计页面的时候要贴合商品，同时要设计的美观"
   ]
  },
  {
   "cell_type": "markdown",
   "id": "b3252ffe",
   "metadata": {},
   "source": [
    "(3)加购物车和收藏到购买的转化率相比于pv到购买比较可观，应关注加购物车和收藏的商品"
   ]
  },
  {
   "cell_type": "markdown",
   "id": "78e1400a",
   "metadata": {},
   "source": [
    "建议：推送优惠券，提高推荐系统的精确度"
   ]
  },
  {
   "cell_type": "markdown",
   "id": "31424479",
   "metadata": {},
   "source": [
    "(4)用户月复购率也较高,对平台的粘性和忠诚度较高"
   ]
  },
  {
   "cell_type": "markdown",
   "id": "11eb50b7",
   "metadata": {},
   "source": [
    "建议：保持平台的不断更新迭代，顺应时代的发展，不要固步自封，长时间停留在原地"
   ]
  },
  {
   "cell_type": "markdown",
   "id": "0eae56dd",
   "metadata": {},
   "source": [
    "(5)pv到购买的转化率偏低，且浏览量前十商品和购买量前十商品中相同的商品较少，说明用户花了大量的时间选择合适的商品"
   ]
  },
  {
   "cell_type": "markdown",
   "id": "60017433",
   "metadata": {},
   "source": [
    "建议：提高搜索、检索的准确度，优化推荐系统性能以及算法。"
   ]
  }
 ],
 "metadata": {
  "kernelspec": {
   "display_name": "Python 3",
   "language": "python",
   "name": "python3"
  },
  "language_info": {
   "codemirror_mode": {
    "name": "ipython",
    "version": 3
   },
   "file_extension": ".py",
   "mimetype": "text/x-python",
   "name": "python",
   "nbconvert_exporter": "python",
   "pygments_lexer": "ipython3",
   "version": "3.8.8"
  }
 },
 "nbformat": 4,
 "nbformat_minor": 5
}
